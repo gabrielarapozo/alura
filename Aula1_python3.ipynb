{
  "nbformat": 4,
  "nbformat_minor": 0,
  "metadata": {
    "colab": {
      "name": "Aula1_python3.ipynb",
      "provenance": [],
      "authorship_tag": "ABX9TyMNjJubkdNCCnJv7ufjc8be",
      "include_colab_link": true
    },
    "kernelspec": {
      "name": "python3",
      "display_name": "Python 3"
    },
    "language_info": {
      "name": "python"
    }
  },
  "cells": [
    {
      "cell_type": "markdown",
      "metadata": {
        "id": "view-in-github",
        "colab_type": "text"
      },
      "source": [
        "<a href=\"https://colab.research.google.com/github/gabrielarapozo/alura/blob/main/Aula1_python3.ipynb\" target=\"_parent\"><img src=\"https://colab.research.google.com/assets/colab-badge.svg\" alt=\"Open In Colab\"/></a>"
      ]
    },
    {
      "cell_type": "markdown",
      "metadata": {
        "id": "Ej9I9SijLGu-"
      },
      "source": [
        "#**Python 3 - Aula 1 - Alura**\n",
        "Aluna: Gabriela Rapozo"
      ]
    },
    {
      "cell_type": "markdown",
      "metadata": {
        "id": "ZVgl1yB1MXSf"
      },
      "source": [
        "Imprimindo o valor na tela: \n",
        "    \n",
        "```\n",
        "print(value, sep=' ', end='\\n', file=sys.stdout, flush=False)\n",
        "```\n",
        "\n",
        "**sep**:   string inserted between values, default a space.\n",
        "\n",
        "\n",
        "**file**:  a file-like object (stream); defaults to the current sys.std\n",
        "out \n",
        "\n",
        "**end**:   string appended after the last value, default a newline.\n",
        "\n",
        "**flush**: whether to forcibly flush the stream."
      ]
    },
    {
      "cell_type": "code",
      "metadata": {
        "colab": {
          "base_uri": "https://localhost:8080/"
        },
        "id": "EyHJpeXBLVYP",
        "outputId": "7034a63e-f605-42d5-ccbd-8a647a1dfe2c"
      },
      "source": [
        "print(\"Hello World\")"
      ],
      "execution_count": 1,
      "outputs": [
        {
          "output_type": "stream",
          "text": [
            "Hello World\n"
          ],
          "name": "stdout"
        }
      ]
    },
    {
      "cell_type": "code",
      "metadata": {
        "colab": {
          "base_uri": "https://localhost:8080/"
        },
        "id": "jOMHGy7BLFrw",
        "outputId": "7677b8d6-bcb3-4fe8-9633-24752ad6d8a8"
      },
      "source": [
        "print(\"Brasil\", \"ganhou\", 5, \"titulos\", \"mundiais\", sep=\" \")\n",
        "\n",
        "print(\"Brasil\", \"ganhou\", 5, \"titulos\", \"mundiais\", sep= \"_\", end='\\n')\n",
        "\n",
        "print(\"Brasil\", \"ganhou\", 5, \"titulos\", \"mundiais\", end='!!\\n')\n"
      ],
      "execution_count": 3,
      "outputs": [
        {
          "output_type": "stream",
          "text": [
            "Brasil ganhou 5 titulos mundiais\n",
            "Brasil_ganhou_5_titulos_mundiais\n",
            "Brasil ganhou 5 titulos mundiais!!\n"
          ],
          "name": "stdout"
        }
      ]
    },
    {
      "cell_type": "code",
      "metadata": {
        "colab": {
          "base_uri": "https://localhost:8080/"
        },
        "id": "b62d1cUNNokM",
        "outputId": "535c6356-8b69-4fe7-dcd1-95daed086c66"
      },
      "source": [
        "pais = \"Italia\"\n",
        "type(pais)"
      ],
      "execution_count": 5,
      "outputs": [
        {
          "output_type": "execute_result",
          "data": {
            "text/plain": [
              "str"
            ]
          },
          "metadata": {
            "tags": []
          },
          "execution_count": 5
        }
      ]
    },
    {
      "cell_type": "code",
      "metadata": {
        "colab": {
          "base_uri": "https://localhost:8080/"
        },
        "id": "jK4FgK6mNzZe",
        "outputId": "a9ca9db1-a00b-4583-cbf5-af6ff9edba51"
      },
      "source": [
        "quantidade = 4\n",
        "type(quantidade)"
      ],
      "execution_count": 6,
      "outputs": [
        {
          "output_type": "execute_result",
          "data": {
            "text/plain": [
              "int"
            ]
          },
          "metadata": {
            "tags": []
          },
          "execution_count": 6
        }
      ]
    },
    {
      "cell_type": "code",
      "metadata": {
        "colab": {
          "base_uri": "https://localhost:8080/"
        },
        "id": "ZvFWZTV1N40b",
        "outputId": "ccff454d-7398-4885-825e-276f1435d7a6"
      },
      "source": [
        "valor = 4.99\n",
        "type(valor)"
      ],
      "execution_count": 7,
      "outputs": [
        {
          "output_type": "execute_result",
          "data": {
            "text/plain": [
              "float"
            ]
          },
          "metadata": {
            "tags": []
          },
          "execution_count": 7
        }
      ]
    },
    {
      "cell_type": "markdown",
      "metadata": {
        "id": "8N4MRyNXOHlT"
      },
      "source": [
        "## Tipagem Dinâmica\n",
        "\n",
        "Ao contrário de linguagens como C ou Java, a tipagem pode variar a partir do momento em que declaramos ela, ou seja, o tipo da variável é definido de acordo com o valor que ela guarda, isso faz parte da tipagem dinâmica do Python\n",
        "\n",
        "exemplo, a varíavel mes pode ser definida como:\n",
        "\n",
        "```\n",
        "mes = \"jan\" #str\n",
        "mes = 1 #int\n",
        "```\n",
        "\n",
        "\n",
        "\n",
        "variando dinamicamente"
      ]
    }
  ]
}