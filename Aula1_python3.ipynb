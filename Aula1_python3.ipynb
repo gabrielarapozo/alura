{
  "nbformat": 4,
  "nbformat_minor": 0,
  "metadata": {
    "colab": {
      "name": "Aula1_python3.ipynb",
      "provenance": [],
      "authorship_tag": "ABX9TyMNjJubkdNCCnJv7ufjc8be",
      "include_colab_link": true
    },
    "kernelspec": {
      "name": "python3",
      "display_name": "Python 3"
    },
    "language_info": {
      "name": "python"
    }
  },
  "cells": [
    {
      "cell_type": "markdown",
      "metadata": {
        "id": "view-in-github",
        "colab_type": "text"
      },
      "source": [
        "<a href=\"https://colab.research.google.com/github/gabrielarapozo/alura/blob/main/Aula1_python3.ipynb\" target=\"_parent\"><img src=\"https://colab.research.google.com/assets/colab-badge.svg\" alt=\"Open In Colab\"/></a>"
      ]
    },
    {
      "cell_type": "markdown",
      "metadata": {
        "id": "Ej9I9SijLGu-"
      },
      "source": [
        "#**Python 3 - Aula 1 - Alura**\n",
        "Aluna: Gabriela Rapozo"
      ]
    },
    {
      "cell_type": "markdown",
      "metadata": {
        "id": "ZVgl1yB1MXSf"
      },
      "source": [
        "Imprimindo o valor na tela: \n",
        "    \n",
        "```\n",
        "print(value, sep=' ', end='\\n', file=sys.stdout, flush=False)\n",
        "```\n",
        "\n",
        "**sep**:   string inserted between values, default a space.\n",
        "\n",
        "\n",
        "**file**:  a file-like object (stream); defaults to the current sys.std\n",
        "out \n",
        "\n",
        "**end**:   string appended after the last value, default a newline.\n",
        "\n",
        "**flush**: whether to forcibly flush the stream."
      ]
    },
    {
      "cell_type": "code",
      "metadata": {
        "colab": {
          "base_uri": "https://localhost:8080/"
        },
        "id": "EyHJpeXBLVYP",
        "outputId": "ffcd613b-b022-4145-8d13-d2fe74eed1fa"
      },
      "source": [
        "print(\"Hello World\")"
      ],
      "execution_count": 1,
      "outputs": [
        {
          "output_type": "stream",
          "text": [
            "Hello World\n"
          ],
          "name": "stdout"
        }
      ]
    },
    {
      "cell_type": "code",
      "metadata": {
        "colab": {
          "base_uri": "https://localhost:8080/"
        },
        "id": "jOMHGy7BLFrw",
        "outputId": "b69ab148-6b14-45f6-b985-8b4daa87c69b"
      },
      "source": [
        "print(\"Brasil\", \"ganhou\", 5, \"titulos\", \"mundiais\", sep=\" \")\n",
        "\n",
        "print(\"Brasil\", \"ganhou\", 5, \"titulos\", \"mundiais\", sep= \"_\", end='\\n')\n",
        "\n",
        "print(\"Brasil\", \"ganhou\", 5, \"titulos\", \"mundiais\", end='!!\\n')\n"
      ],
      "execution_count": 2,
      "outputs": [
        {
          "output_type": "stream",
          "text": [
            "Brasil ganhou 5 titulos mundiais\n",
            "Brasil_ganhou_5_titulos_mundiais\n",
            "Brasil ganhou 5 titulos mundiais!!\n"
          ],
          "name": "stdout"
        }
      ]
    },
    {
      "cell_type": "code",
      "metadata": {
        "colab": {
          "base_uri": "https://localhost:8080/"
        },
        "id": "b62d1cUNNokM",
        "outputId": "e7c43126-f4fb-4258-a58e-58320a3cae1b"
      },
      "source": [
        "pais = \"Italia\"\n",
        "type(pais)"
      ],
      "execution_count": 3,
      "outputs": [
        {
          "output_type": "execute_result",
          "data": {
            "text/plain": [
              "str"
            ]
          },
          "metadata": {
            "tags": []
          },
          "execution_count": 3
        }
      ]
    },
    {
      "cell_type": "code",
      "metadata": {
        "colab": {
          "base_uri": "https://localhost:8080/"
        },
        "id": "jK4FgK6mNzZe",
        "outputId": "1b319447-f445-4351-8590-d73e3e24bc41"
      },
      "source": [
        "quantidade = 4\n",
        "type(quantidade)"
      ],
      "execution_count": 4,
      "outputs": [
        {
          "output_type": "execute_result",
          "data": {
            "text/plain": [
              "int"
            ]
          },
          "metadata": {
            "tags": []
          },
          "execution_count": 4
        }
      ]
    },
    {
      "cell_type": "code",
      "metadata": {
        "colab": {
          "base_uri": "https://localhost:8080/"
        },
        "id": "ZvFWZTV1N40b",
        "outputId": "854b6439-db54-4fc9-f528-69d0e948f3d4"
      },
      "source": [
        "valor = 4.99\n",
        "type(valor)"
      ],
      "execution_count": 5,
      "outputs": [
        {
          "output_type": "execute_result",
          "data": {
            "text/plain": [
              "float"
            ]
          },
          "metadata": {
            "tags": []
          },
          "execution_count": 5
        }
      ]
    },
    {
      "cell_type": "markdown",
      "metadata": {
        "id": "8N4MRyNXOHlT"
      },
      "source": [
        "## Tipagem Dinâmica\n",
        "\n",
        "Ao contrário de linguagens como C ou Java, a tipagem pode variar a partir do momento em que declaramos ela, ou seja, o tipo da variável é definido de acordo com o valor que ela guarda, isso faz parte da tipagem dinâmica do Python\n",
        "\n",
        "exemplo, a varíavel mes pode ser definida como:\n",
        "\n",
        "```\n",
        "mes = \"jan\" #str\n",
        "mes = 1 #int\n",
        "```\n",
        "\n",
        "\n",
        "\n",
        "variando dinamicamente"
      ]
    }
  ]
}